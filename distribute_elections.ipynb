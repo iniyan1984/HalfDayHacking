{
  "nbformat": 4,
  "nbformat_minor": 0,
  "metadata": {
    "kernelspec": {
      "display_name": "Python 3",
      "name": "python3",
      "language": "python"
    },
    "language_info": {
      "mimetype": "text/x-python",
      "nbconvert_exporter": "python",
      "name": "python",
      "file_extension": ".py",
      "version": "3.7.6",
      "pygments_lexer": "ipython3",
      "codemirror_mode": {
        "version": 3,
        "name": "ipython"
      }
    },
    "celltoolbar": "Edit Metadata",
    "colab": {
      "name": "distribute_elections.ipynb",
      "provenance": [],
      "include_colab_link": true
    }
  },
  "cells": [
    {
      "cell_type": "markdown",
      "metadata": {
        "id": "view-in-github",
        "colab_type": "text"
      },
      "source": [
        "<a href=\"https://colab.research.google.com/github/iniyan1984/HalfDayHacking/blob/main/distribute_elections.ipynb\" target=\"_parent\"><img src=\"https://colab.research.google.com/assets/colab-badge.svg\" alt=\"Open In Colab\"/></a>"
      ]
    },
    {
      "cell_type": "markdown",
      "metadata": {
        "id": "LiZDLkqDN-Mu"
      },
      "source": [
        "# Predicting Elections"
      ]
    },
    {
      "cell_type": "markdown",
      "metadata": {
        "id": "UsW-qDkkN-Mz"
      },
      "source": [
        "## PART 1: A Simple Election Model\n",
        "\n",
        "Let us import data that contains a table of probabilities that PredictWise made on October 2, 2012 for the US presidential elections. PredictWise aggregated polling data and, for each state, estimated the probability that Obama or Romney would win. We import the required libraries first."
      ]
    },
    {
      "cell_type": "code",
      "metadata": {
        "id": "eTsKbayYN-M0"
      },
      "source": [
        "%matplotlib inline\n",
        "import numpy as np\n",
        "import matplotlib.pyplot as plt"
      ],
      "execution_count": 1,
      "outputs": []
    },
    {
      "cell_type": "code",
      "metadata": {
        "id": "4trQLF7hN-M0"
      },
      "source": [
        "import pandas as pd # imports a library to handle data as dataframe"
      ],
      "execution_count": 5,
      "outputs": []
    },
    {
      "cell_type": "code",
      "metadata": {
        "id": "Grqev2HzznE_",
        "outputId": "d3575bea-e43b-4db5-b1c9-130d2322b2e7",
        "colab": {
          "base_uri": "https://localhost:8080/"
        }
      },
      "source": [
        "!wget https://raw.githubusercontent.com/iniyan1984/HalfDayHacking/main/data/predictwise.csv"
      ],
      "execution_count": 3,
      "outputs": [
        {
          "output_type": "stream",
          "text": [
            "--2020-12-26 06:48:48--  https://raw.githubusercontent.com/iniyan1984/HalfDayHacking/main/data/predictwise.csv\n",
            "Resolving raw.githubusercontent.com (raw.githubusercontent.com)... 151.101.0.133, 151.101.64.133, 151.101.128.133, ...\n",
            "Connecting to raw.githubusercontent.com (raw.githubusercontent.com)|151.101.0.133|:443... connected.\n",
            "HTTP request sent, awaiting response... 200 OK\n",
            "Length: 1365 (1.3K) [text/plain]\n",
            "Saving to: ‘predictwise.csv’\n",
            "\n",
            "predictwise.csv     100%[===================>]   1.33K  --.-KB/s    in 0s      \n",
            "\n",
            "2020-12-26 06:48:49 (82.8 MB/s) - ‘predictwise.csv’ saved [1365/1365]\n",
            "\n"
          ],
          "name": "stdout"
        }
      ]
    },
    {
      "cell_type": "code",
      "metadata": {
        "id": "8aw4309jN-M0",
        "outputId": "b3d0a647-e68e-4456-ac0b-9183377212bf",
        "colab": {
          "base_uri": "https://localhost:8080/",
          "height": 235
        }
      },
      "source": [
        "predictwise = pd.read_csv('/content/predictwise.csv').set_index('States')\n",
        "predictwise.head()"
      ],
      "execution_count": 6,
      "outputs": [
        {
          "output_type": "execute_result",
          "data": {
            "text/html": [
              "<div>\n",
              "<style scoped>\n",
              "    .dataframe tbody tr th:only-of-type {\n",
              "        vertical-align: middle;\n",
              "    }\n",
              "\n",
              "    .dataframe tbody tr th {\n",
              "        vertical-align: top;\n",
              "    }\n",
              "\n",
              "    .dataframe thead th {\n",
              "        text-align: right;\n",
              "    }\n",
              "</style>\n",
              "<table border=\"1\" class=\"dataframe\">\n",
              "  <thead>\n",
              "    <tr style=\"text-align: right;\">\n",
              "      <th></th>\n",
              "      <th>Obama</th>\n",
              "      <th>Romney</th>\n",
              "      <th>Votes</th>\n",
              "    </tr>\n",
              "    <tr>\n",
              "      <th>States</th>\n",
              "      <th></th>\n",
              "      <th></th>\n",
              "      <th></th>\n",
              "    </tr>\n",
              "  </thead>\n",
              "  <tbody>\n",
              "    <tr>\n",
              "      <th>Alabama</th>\n",
              "      <td>0.000</td>\n",
              "      <td>1.000</td>\n",
              "      <td>9</td>\n",
              "    </tr>\n",
              "    <tr>\n",
              "      <th>Alaska</th>\n",
              "      <td>0.000</td>\n",
              "      <td>1.000</td>\n",
              "      <td>3</td>\n",
              "    </tr>\n",
              "    <tr>\n",
              "      <th>Arizona</th>\n",
              "      <td>0.062</td>\n",
              "      <td>0.938</td>\n",
              "      <td>11</td>\n",
              "    </tr>\n",
              "    <tr>\n",
              "      <th>Arkansas</th>\n",
              "      <td>0.000</td>\n",
              "      <td>1.000</td>\n",
              "      <td>6</td>\n",
              "    </tr>\n",
              "    <tr>\n",
              "      <th>California</th>\n",
              "      <td>1.000</td>\n",
              "      <td>0.000</td>\n",
              "      <td>55</td>\n",
              "    </tr>\n",
              "  </tbody>\n",
              "</table>\n",
              "</div>"
            ],
            "text/plain": [
              "            Obama  Romney  Votes\n",
              "States                          \n",
              "Alabama     0.000   1.000      9\n",
              "Alaska      0.000   1.000      3\n",
              "Arizona     0.062   0.938     11\n",
              "Arkansas    0.000   1.000      6\n",
              "California  1.000   0.000     55"
            ]
          },
          "metadata": {
            "tags": []
          },
          "execution_count": 6
        }
      ]
    },
    {
      "cell_type": "markdown",
      "metadata": {
        "id": "HK7cIZYyN-M0"
      },
      "source": [
        "Each row is the probability predicted by Predictwise that Romney or Obama would win a state. The votes column lists the number of electoral college votes in that state.\n",
        "\n",
        "In the case of tossed coins, even though we have a model which says that the probability of heads is 0.5, there are sequences of flips in which more or less than half the flips were heads. Similarly, here, if the probability of Romney winning in Arizona is 0.938, it means that if somehow, there were 1000 replications with an election each, Romney would win in 938 of those Arizonas **on the average** across the replications. And there would be some samples with Romney winning more, and some with less. We can run these **simulated** universes on a computer though not in real life.\n",
        "\n",
        "How did these probabilities come about. It does not matter. I might have fit a deep neural network, a bayesian model, or just asked people to bet (thats what predictwise did). Its all just a model."
      ]
    },
    {
      "cell_type": "markdown",
      "metadata": {
        "id": "eyWfAryCN-M1"
      },
      "source": [
        "### Single simulation for a particular state\n",
        "\n",
        "Let us consider the sixth state, `Colorado` and do one random simulation for this state. We use the function `np.random.uniform` to draw 1 sample from a uniform distribution of interval \\[a,b) with an equal probability. The default values of a and b is \\[0,1). Documentation about the function [here](https://docs.scipy.org/doc/numpy-1.15.0/reference/generated/numpy.random.uniform.html)"
      ]
    },
    {
      "cell_type": "markdown",
      "metadata": {
        "id": "EKlqQQDPN-M1"
      },
      "source": [
        "#### Uniform Distribution (in numpy)\n",
        "\n",
        "`np.random.uniform` gives you a random number between 0 and 1, uniformly. In other words, the number is equally likely to be between 0 and 0.1, 0.1 and 0.2, and so on. This is a very intuitive idea, but it is formalized by the notion of the **Uniform Distribution**.\n",
        "\n",
        "We then say:\n",
        "\n",
        "$$X \\sim Uniform([0,1),$$\n",
        "\n",
        "which is to be read as **X has distribution Uniform([0,1])**. "
      ]
    },
    {
      "cell_type": "code",
      "metadata": {
        "id": "BIn-K0mTN-M1",
        "outputId": "e1b0d465-12ef-4254-e97a-84a2ceac5394",
        "colab": {
          "base_uri": "https://localhost:8080/"
        }
      },
      "source": [
        "print(predictwise.loc['Colorado'])\n",
        "sim = np.random.uniform()\n",
        "print(sim)"
      ],
      "execution_count": 7,
      "outputs": [
        {
          "output_type": "stream",
          "text": [
            "Obama     0.807\n",
            "Romney    0.193\n",
            "Votes     9.000\n",
            "Name: Colorado, dtype: float64\n",
            "0.6099167705744154\n"
          ],
          "name": "stdout"
        }
      ]
    },
    {
      "cell_type": "markdown",
      "metadata": {
        "id": "hQzW-YT-N-M1"
      },
      "source": [
        "Obama would would win Colorado for this particular simulation if his probability is higher than the random uniform number between 0 and 1. With and Obama probability of 0.807, Obama wins in this particular case."
      ]
    },
    {
      "cell_type": "code",
      "metadata": {
        "id": "0WHDj1F8N-M2",
        "outputId": "46db0373-5131-4d72-869e-facd12960c41",
        "colab": {
          "base_uri": "https://localhost:8080/"
        }
      },
      "source": [
        "obama_win = (predictwise.loc['Colorado'].Obama > sim)*1\n",
        "print(obama_win)"
      ],
      "execution_count": 8,
      "outputs": [
        {
          "output_type": "stream",
          "text": [
            "1\n"
          ],
          "name": "stdout"
        }
      ]
    },
    {
      "cell_type": "markdown",
      "metadata": {
        "id": "ZViPrHqFN-M2"
      },
      "source": [
        "Run this cell many times:"
      ]
    },
    {
      "cell_type": "code",
      "metadata": {
        "id": "1XfNxMepN-M2",
        "outputId": "c74c44be-03c9-4ea1-9ed3-514226cd4f04",
        "colab": {
          "base_uri": "https://localhost:8080/"
        }
      },
      "source": [
        "obama_win = (predictwise.loc['Colorado'].Obama > np.random.uniform())*1\n",
        "print(obama_win)"
      ],
      "execution_count": 9,
      "outputs": [
        {
          "output_type": "stream",
          "text": [
            "1\n"
          ],
          "name": "stdout"
        }
      ]
    },
    {
      "cell_type": "markdown",
      "metadata": {
        "id": "X31Ha-mkN-M2"
      },
      "source": [
        "Using `np.random.uniform` and comparing it to a probability threshold to get a 0 or 1 - this is nothing but a **Bernoulli Random Variable** for Colorado state.\n",
        "\n",
        "A Bernoulli Random Variable is the simplest kind of random variable. It can take on two values,\n",
        "1 and 0. It takes on a 1 if an experiment with probability *p* resulted in success and a 0 otherwise. A coin toss is another example of a Bernoulli Random Variable.  "
      ]
    },
    {
      "cell_type": "markdown",
      "metadata": {
        "id": "zVqg3W1fN-M2"
      },
      "source": [
        "What assigning the vote to Obama when the random variable **drawn** from the Uniform distribution is less than the Predictwise probability of Obama winning (which is a Bernoulli Parameter) does for us is this: lets say we have a large number of simulations and $p_{Obama}=0.8$. Now if we draw lots of numbers between 0 and 1, uniformly, then 80\\% of the time, the random numbes drawn will be below 0.8. Thus we will now have many simulations with Obama either winning or losing, but winning about 80% of the time."
      ]
    },
    {
      "cell_type": "markdown",
      "metadata": {
        "id": "vRBDZB5zN-M3"
      },
      "source": [
        "### Multiple simulations for a particular State\n",
        "\n",
        "Now let's try and make 1000 simulations for Colorado. This is like making 1000 coin tosses with a biased coin. We expect Obama to win in about 80% of these"
      ]
    },
    {
      "cell_type": "code",
      "metadata": {
        "id": "Z0kRLJTxN-M4"
      },
      "source": [
        "print(predictwise.loc['Colorado'])\n",
        "sims = np.random.uniform(size=1000)\n",
        "print(sims[:100])"
      ],
      "execution_count": null,
      "outputs": []
    },
    {
      "cell_type": "markdown",
      "metadata": {
        "id": "QgeSF73IN-M4"
      },
      "source": [
        "With an Obama probability of about 0.8, This means that we can pick the simulations in which Obama wins Colorado by seeing in how many of the simulations the random number thrown is less than 0.8\n",
        "\n",
        "We are simply making use of numpy broadcasting semantics here:"
      ]
    },
    {
      "cell_type": "code",
      "metadata": {
        "id": "kvBDB_FIN-M4"
      },
      "source": [
        "wins = sims < predictwise.loc['Colorado'].Obama\n",
        "wins[:100]"
      ],
      "execution_count": null,
      "outputs": []
    },
    {
      "cell_type": "markdown",
      "metadata": {
        "id": "RTy14FSmN-M4"
      },
      "source": [
        "This is a boolean numpy array. Summing coerces the True to 1 and False to 0 and gives us the total number of simulations.<br>"
      ]
    },
    {
      "cell_type": "code",
      "metadata": {
        "id": "T2AHKfq_N-M4"
      },
      "source": [
        "np.sum(wins)"
      ],
      "execution_count": null,
      "outputs": []
    },
    {
      "cell_type": "markdown",
      "metadata": {
        "id": "qJdMfeuEN-M4"
      },
      "source": [
        "Obama wins in 81% of the simulations, roughly, in Colorado"
      ]
    },
    {
      "cell_type": "markdown",
      "metadata": {
        "hide": true,
        "id": "MrDkZwHlN-M5"
      },
      "source": [
        "## Simulating the election model\n",
        "\n",
        "To do this, \n",
        "we will assume that the outcome in each state is the result of an independent coin flip whose probability of coming up Obama is given by the Predictwise state-wise win probabilities. Lets write a function `simulate_election` that uses this **predictive model** to simulate the outcome of the election given a table of probabilities.\n",
        "\n",
        "But first, what do we need to do to achieve this? We need to take the output of each simulation for a state and compare it to the predictiwise probability. Then we need to do this many times. Then we need to multiply in by the electoral votes in those states. And then sum over the states."
      ]
    },
    {
      "cell_type": "markdown",
      "metadata": {
        "id": "dfhUsp_uN-M5"
      },
      "source": [
        "### Simulations on all states\n",
        "Lets do it for all the states now. Now we make 1000 simulations for all the states. We'll create 51 rows of 1000 random numbers (1000 columns) between 0 and 1 & try and see in how many votes Obama is able to gather in each simulation"
      ]
    },
    {
      "cell_type": "code",
      "metadata": {
        "jupyter": {
          "outputs_hidden": false
        },
        "id": "BK6OT9jSN-M5"
      },
      "source": [
        "predictwise = pd.read_csv('data/predictwise.csv').set_index('States')\n",
        "predictwise.head()"
      ],
      "execution_count": null,
      "outputs": []
    },
    {
      "cell_type": "code",
      "metadata": {
        "id": "mRcOoQqCN-M6"
      },
      "source": [
        "sims = np.random.uniform(size=(51, 1000))\n",
        "print(sims.shape)\n",
        "sims"
      ],
      "execution_count": null,
      "outputs": []
    },
    {
      "cell_type": "markdown",
      "metadata": {
        "id": "Hg3s2NeDN-M6"
      },
      "source": [
        "Now we just need to compare each row of 1000 random numbers with the probability for that state to find how many of the simulations Obama wins:"
      ]
    },
    {
      "cell_type": "code",
      "metadata": {
        "id": "Q8fX_iTlN-M6"
      },
      "source": [
        "sims < predictwise.Obama.values"
      ],
      "execution_count": null,
      "outputs": []
    },
    {
      "cell_type": "markdown",
      "metadata": {
        "id": "hdEax3h8N-M7"
      },
      "source": [
        "Doing this creates an error as the shape of **sims** and **predictwise.Obama.values** is not the same. We can use numpy.reshape to change the shape of our array"
      ]
    },
    {
      "cell_type": "markdown",
      "metadata": {
        "id": "f9FLkbiaN-M7"
      },
      "source": [
        "## Comparing simulations and numpy.reshape\n",
        "\n",
        "Reshape gives a new shape to the array without changing the data.  Detailed documentation about reshape [here](https://docs.scipy.org/doc/numpy/reference/generated/numpy.reshape.html). Let us take an example to show how reshape works"
      ]
    },
    {
      "cell_type": "code",
      "metadata": {
        "id": "AcHqAzaPN-M7"
      },
      "source": [
        "a= np.arange(6)\n",
        "print(a)\n",
        "print(a.shape)"
      ],
      "execution_count": null,
      "outputs": []
    },
    {
      "cell_type": "code",
      "metadata": {
        "id": "XtPnBSISN-M7"
      },
      "source": [
        "a.reshape(2,3)"
      ],
      "execution_count": null,
      "outputs": []
    },
    {
      "cell_type": "code",
      "metadata": {
        "id": "-PrQpminN-M7"
      },
      "source": [
        "print(a.reshape(-1,1))   # -1 as a parameter simply means that it is an unknown dimension and we want numpy to figure it out.\n",
        "print('New shape is: ', a.reshape(-1,1).shape)"
      ],
      "execution_count": null,
      "outputs": []
    },
    {
      "cell_type": "markdown",
      "metadata": {
        "id": "GV5v4LaLN-M7"
      },
      "source": [
        "If we use `reshape` now to our predictwise Obama proababilities, we get 51 rows of 100 Trues and Falses"
      ]
    },
    {
      "cell_type": "code",
      "metadata": {
        "id": "9SUyV_NtN-M8"
      },
      "source": [
        "how_many_won = sims < predictwise.Obama.values.reshape(-1,1) # reshape for broadcasting\n",
        "how_many_won"
      ],
      "execution_count": null,
      "outputs": []
    },
    {
      "cell_type": "code",
      "metadata": {
        "id": "CI_YULL6N-M8"
      },
      "source": [
        "how_many_won.shape"
      ],
      "execution_count": null,
      "outputs": []
    },
    {
      "cell_type": "markdown",
      "metadata": {
        "id": "4QaERmQAN-M8"
      },
      "source": [
        "Multiply by the number of electoral Votes in each state"
      ]
    },
    {
      "cell_type": "code",
      "metadata": {
        "id": "8LSYL3GmN-M8"
      },
      "source": [
        "how_many_electoral_votes = how_many_won*predictwise.Votes.values.reshape(-1,1)\n",
        "how_many_electoral_votes"
      ],
      "execution_count": null,
      "outputs": []
    },
    {
      "cell_type": "markdown",
      "metadata": {
        "id": "6ErTCzWtN-M8"
      },
      "source": [
        "If we sum the columns now (that is over the 50 states and DC), we get the total electoral votes in the country for Obama in each simulation"
      ]
    },
    {
      "cell_type": "code",
      "metadata": {
        "id": "7XbJPL8BN-M8"
      },
      "source": [
        "total_electoral_votes_per_simulation = np.sum(how_many_electoral_votes, axis=0)\n",
        "total_electoral_votes_per_simulation[:20]"
      ],
      "execution_count": null,
      "outputs": []
    },
    {
      "cell_type": "markdown",
      "metadata": {
        "id": "gP61gEhVN-M8"
      },
      "source": [
        "This is what Nate Silver and other prediction people will quote you. In How many simulations does Obama win? Well there are 538 electoral votes in the US. So you need 269 to break even. Lets compare:"
      ]
    },
    {
      "cell_type": "code",
      "metadata": {
        "id": "2Xa9K0UGN-M9"
      },
      "source": [
        "np.sum(total_electoral_votes_per_simulation >= 269)"
      ],
      "execution_count": null,
      "outputs": []
    },
    {
      "cell_type": "markdown",
      "metadata": {
        "id": "nvRuxsgBN-M9"
      },
      "source": [
        "Thats 993 out of 1000 simulations or a 99.3% chance!"
      ]
    },
    {
      "cell_type": "markdown",
      "metadata": {
        "id": "9OYMs_n0N-M9"
      },
      "source": [
        "## Refactoring the simulation code"
      ]
    },
    {
      "cell_type": "markdown",
      "metadata": {
        "hide": true,
        "id": "ajZeRgTyN-M9"
      },
      "source": [
        "Here then is the predictive model we are playing with in short: each column simulates a single outcome from the 50 states + DC by choosing a random number between 0 and 1. Obama wins that simulation if the random number is $<$ the win probability. If he wins that simulation, we add in the electoral votes for that state, otherwise we dont. We do this `n_sim` times and return a list of total Obama electoral votes in each simulation."
      ]
    },
    {
      "cell_type": "markdown",
      "metadata": {
        "id": "gltnAnLrN-M9"
      },
      "source": [
        "### Q1:  *Write a function that uses this **predictive model** to simulate the outcome of the election given a Dataframe of probabilities*.\n",
        "\n"
      ]
    },
    {
      "cell_type": "code",
      "metadata": {
        "jupyter": {
          "outputs_hidden": false
        },
        "id": "6XCfctVNN-M9"
      },
      "source": [
        "\"\"\"\n",
        "Function\n",
        "--------\n",
        "simulate_election\n",
        "\n",
        "Inputs\n",
        "------\n",
        "model : DataFrame\n",
        "    A DataFrame summarizing an election forecast. The dataframe has 51 rows -- one for each state and DC\n",
        "    It has the following columns:\n",
        "       Obama : Forecasted probability that Obama wins the state\n",
        "       Votes : Electoral votes for the state\n",
        "    The DataFrame is indexed by state (i.e., model.index is an array of state names)\n",
        "    \n",
        "n_sim : int\n",
        "   Number of simulations to run\n",
        "   \n",
        "Returns\n",
        "-------\n",
        "results : Numpy array with n_sim elements\n",
        "   Each element stores the number of electoral college votes Obama wins in each simulation.   \n",
        "\"\"\"\n",
        "\n",
        "# your code here\n"
      ],
      "execution_count": null,
      "outputs": []
    },
    {
      "cell_type": "markdown",
      "metadata": {
        "id": "RVKGkAy8N-M-"
      },
      "source": [
        "The following code takes the necessary probabilities for the Predictwise data, and runs 10000 simulations. If you think of this in terms of our coins, think of it as having 51 biased coins, one for each state, and tossing them 10,000 times each.\n",
        "\n",
        "We use the results to compute the number of simulations, according to this predictive model, that Obama wins the election (i.e., the probability that he receives 269 or more electoral college votes)"
      ]
    },
    {
      "cell_type": "code",
      "metadata": {
        "jupyter": {
          "outputs_hidden": false
        },
        "id": "2OSbRo4GN-M-"
      },
      "source": [
        "result = simulate_election(predictwise, 10000)\n",
        "print(type(result))\n",
        "np.sum(result >= 269)"
      ],
      "execution_count": null,
      "outputs": []
    },
    {
      "cell_type": "markdown",
      "metadata": {
        "id": "Tw6MfdVPN-M-"
      },
      "source": [
        "There are roughly only 50 simulations in which Romney wins the election!"
      ]
    },
    {
      "cell_type": "markdown",
      "metadata": {
        "id": "2ZFYmVanN-M-"
      },
      "source": [
        "### Displaying the prediction\n",
        "\n",
        "Now, lets visualize the simulation. We will build a histogram from the result of `simulate_election`. We will **normalize** the histogram by dividing the frequency of a vote tally by the number of simulations. We'll overplot the \"victory threshold\" of 269 votes as a vertical black line and the result (Obama winning 332 votes) as a vertical red line.\n",
        "\n",
        "We also compute the number of votes at the 5th and 95th quantiles, which we call the spread, and display it (this is an estimate of the outcome's uncertainty). By 5th quantile we mean that if we ordered the number of votes Obama gets in each simulation in increasing order, the 5th quantile is the number below which 5\\% of the simulations lie. \n",
        "\n",
        "We also display the probability of an Obama victory, seeing a new feature in histograms, which is \"density\" plotting. Here we are normalizing the total frequency of the histogram to 1, to construct our notion of a probability from a large-number frquency.   "
      ]
    },
    {
      "cell_type": "code",
      "metadata": {
        "jupyter": {
          "outputs_hidden": false
        },
        "id": "tRsD8yZ1N-M-"
      },
      "source": [
        "def plot_simulation(simulation):\n",
        "    fig, ax = plt.subplots(figsize=(12,6))\n",
        "    ax.hist(simulation, bins=np.arange(200, 538, 1), \n",
        "             label='simulations', align='left', density=True)\n",
        "    ax.axvline(332, 0, .5, color='r', label='Actual Outcome')\n",
        "    ax.axvline(269, 0, .5, color='k', label='Victory Threshold')\n",
        "    p05 = np.percentile(simulation, 5.)\n",
        "    p95 = np.percentile(simulation, 95.)\n",
        "    iq = int(p95 - p05)\n",
        "    pwin = ((simulation >= 269).mean() * 100)\n",
        "    ax.set_title(\"Chance of Obama Victory: %0.2f%%, Spread: %d votes\" % (pwin, iq))\n",
        "    ax.legend(frameon=False, loc='upper left')\n",
        "    ax.set_xlabel(\"Obama Electoral College Votes\")\n",
        "    ax.set_ylabel(\"Probability\")\n",
        "    ax.spines['top'].set_visible(False)\n",
        "    ax.spines['right'].set_visible(False)"
      ],
      "execution_count": null,
      "outputs": []
    },
    {
      "cell_type": "code",
      "metadata": {
        "jupyter": {
          "outputs_hidden": false
        },
        "id": "uaqWm8gpN-M_"
      },
      "source": [
        "plot_simulation(result)"
      ],
      "execution_count": null,
      "outputs": []
    },
    {
      "cell_type": "markdown",
      "metadata": {
        "id": "uNpMKELFN-M_"
      },
      "source": [
        "The model created by combining the probabilities we obtained from Predictwise with the simulation of a biased coin flip corresponding to the win probability in each states leads us to obtain a histogram of election outcomes. We are plotting the probabilities of a prediction, so we call this distribution over outcomes the **predictive distribution**. Simulating from our model and plotting a histogram allows us to visualize this predictive distribution. In general, such a set of probabilities is called a **probability distribution** or **probability mass function**. "
      ]
    },
    {
      "cell_type": "markdown",
      "metadata": {
        "id": "ogNMUmmlN-M_"
      },
      "source": [
        "## PART 2: Estimating Probabilities"
      ]
    },
    {
      "cell_type": "markdown",
      "metadata": {
        "id": "wiBl_YXeN-M_"
      },
      "source": [
        "Now we will try to **estimate** our own win probabilities to plug into our predictive model.\n",
        "\n",
        "We will start with a simple forecast model. We will try to predict the outcome of the election based the estimated proportion of people in each state who identify with one one political party or the other.\n",
        "\n",
        "Gallup measures the political leaning of each state, based on asking random people which party they identify or affiliate with. [Here's the data](http://www.gallup.com/poll/156437/heavily-democratic-states-concentrated-east.aspx#2) they collected from January-June of 2012:"
      ]
    },
    {
      "cell_type": "code",
      "metadata": {
        "jupyter": {
          "outputs_hidden": false
        },
        "id": "Z_IjVmI9N-NA"
      },
      "source": [
        "gallup_2012=pd.read_csv(\"data/g12.csv\").set_index('State')\n",
        "gallup_2012[\"Unknown\"] = 100 - gallup_2012.Democrat - gallup_2012.Republican\n",
        "gallup_2012.head()"
      ],
      "execution_count": null,
      "outputs": []
    },
    {
      "cell_type": "markdown",
      "metadata": {
        "id": "zfOBoGubN-NA"
      },
      "source": [
        "Each row lists a state, the percent of surveyed individuals who identify as Democrat/Republican, the percent whose identification is unknown or who haven't made an affiliation yet, the margin between Democrats and Republicans (`Dem_Adv`: the percentage identifying as Democrats minus the percentage identifying as Republicans), and the number `N` of people surveyed.\n",
        "\n",
        "### QUESTION 2\n",
        "\n",
        "This survey can be used to predict the outcome of each State's election. The simplest forecast model assigns 100% probability that the state will vote for the majority party.  *Implement this simple forecast*."
      ]
    },
    {
      "cell_type": "code",
      "metadata": {
        "jupyter": {
          "outputs_hidden": false
        },
        "id": "k8CiPZ2uN-NA"
      },
      "source": [
        "\"\"\"\n",
        "Function\n",
        "--------\n",
        "simple_gallup_model\n",
        "\n",
        "A simple forecast that predicts an Obama (Democratic) victory with\n",
        "0 or 100% probability, depending on whether a state\n",
        "leans Republican or Democrat.\n",
        "\n",
        "Inputs\n",
        "------\n",
        "gallup : DataFrame\n",
        "    The Gallup dataframe above\n",
        "\n",
        "Returns\n",
        "-------\n",
        "model : DataFrame\n",
        "    A dataframe with the following column\n",
        "     * Obama: probability that the state votes for Obama. All values should be 0 or 1\n",
        "    model.index should be set to gallup.index (that is, it should be indexed by state name)\n",
        "    \n",
        "Examples\n",
        "---------\n",
        ">>> simple_gallup_model(gallup_2012).ix['Florida']\n",
        "Obama    1\n",
        "Name: Florida, dtype: float64\n",
        ">>> simple_gallup_model(gallup_2012).ix['Arizona']\n",
        "Obama    0\n",
        "Name: Arizona, dtype: float64\n",
        "\"\"\"\n",
        "\n",
        "# your code here\n"
      ],
      "execution_count": null,
      "outputs": []
    },
    {
      "cell_type": "markdown",
      "metadata": {
        "id": "4X5YMqEsN-NA"
      },
      "source": [
        "Now, we run the simulation with this model, and plot it."
      ]
    },
    {
      "cell_type": "code",
      "metadata": {
        "id": "NQpRt20KN-NA"
      },
      "source": [
        "predictwise.head()"
      ],
      "execution_count": null,
      "outputs": []
    },
    {
      "cell_type": "code",
      "metadata": {
        "jupyter": {
          "outputs_hidden": false
        },
        "id": "4C-vSjJkN-NA"
      },
      "source": [
        "model = simple_gallup_model(gallup_2012)\n",
        "model = model.join(predictwise[['Votes']])\n",
        "prediction = simulate_election(model, 10000)\n",
        "\n",
        "plot_simulation(prediction)"
      ],
      "execution_count": null,
      "outputs": []
    },
    {
      "cell_type": "markdown",
      "metadata": {
        "id": "dLcWOD1zN-NB"
      },
      "source": [
        "## PART 3:  Adding Polling Uncertainty to the Predictive Model\n",
        "\n",
        "The model above is brittle -- it includes no accounting for uncertainty, and thus makes predictions with 100% confidence. This is clearly wrong -- there are numerous sources of uncertainty in estimating election outcomes from a poll of affiliations. \n",
        "\n",
        "The most obvious source of error in the Gallup data is the finite sample size -- Gallup did not poll *everybody* in America, and thus the party affilitions are subject to sampling errors. How much uncertainty does this introduce?\n",
        "\n",
        "On their [webpage](http://www.gallup.com/poll/156437/heavily-democratic-states-concentrated-east.aspx#2) discussing these data, Gallup notes that the sampling error for the states is between 3 and 6%, with it being 3% for most states. (The calculation of the sampling error itself is an exercise in statistics. Its fun to think of how you could arrive at the sampling error if it was not given to you. One way to do it would be to assume this was a two-choice situation and use binomial sampling error for the non-unknown answers, and further model the error for those who answered 'Unknown'.)\n",
        "\n",
        "This is indeed done even in direct polls just before the election. There too you cant ask everyone and mustworry about sampling.\n",
        "\n",
        "### QUESTION 3:\n",
        "\n",
        "Use Gallup's estimate of 3% to build a Gallup model with some uncertainty. Assume that the `Dem_Adv` column represents the mean of a Gaussian, whose standard deviation is 3%. Build the model in the function `uncertain_gallup_model`. *Return a forecast where the probability of an Obama victory is given by the probability that a sample from the `Dem_Adv` Gaussian is positive.*\n",
        "\n",
        "**Hint**\n",
        "The probability that a sample from a Gaussian with mean $\\mu$ and standard deviation $\\sigma$ exceeds a threhold $z$ can be found using the the Cumulative Distribution Function of a Gaussian:\n",
        "\n",
        "$$\n",
        "CDF(z) = \\frac1{2}\\left(1 + {\\rm erf}\\left(\\frac{z - \\mu}{\\sqrt{2 \\sigma^2}}\\right)\\right) \n",
        "$$\n"
      ]
    },
    {
      "cell_type": "code",
      "metadata": {
        "jupyter": {
          "outputs_hidden": false
        },
        "id": "r3rqe8kPN-NB"
      },
      "source": [
        "\"\"\"\n",
        "Function\n",
        "--------\n",
        "uncertain_gallup_model\n",
        "\n",
        "A forecast that predicts an Obama (Democratic) victory if the random variable drawn\n",
        "from a Gaussian with mean Dem_Adv and standard deviation 3% is >0\n",
        "\n",
        "Inputs\n",
        "------\n",
        "gallup : DataFrame\n",
        "    The Gallup dataframe above\n",
        "\n",
        "Returns\n",
        "-------\n",
        "model : DataFrame\n",
        "    A dataframe with the following column\n",
        "     * Obama: probability that the state votes for Obama.\n",
        "    model.index should be set to gallup.index (that is, it should be indexed by state name)\n",
        "\"\"\"\n",
        "# your code here\n"
      ],
      "execution_count": null,
      "outputs": []
    },
    {
      "cell_type": "code",
      "metadata": {
        "id": "PTtrMmdsN-NB"
      },
      "source": [
        "model = uncertain_gallup_model(gallup_2012)\n",
        "model = model.join(predictwise[['Votes']])"
      ],
      "execution_count": null,
      "outputs": []
    },
    {
      "cell_type": "code",
      "metadata": {
        "id": "QlJKMvCjN-NB"
      },
      "source": [
        "prediction = simulate_election(model, 10000)\n",
        "plot_simulation(prediction)"
      ],
      "execution_count": null,
      "outputs": []
    }
  ]
}