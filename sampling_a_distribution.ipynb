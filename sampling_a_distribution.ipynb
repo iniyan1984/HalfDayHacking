{
  "nbformat": 4,
  "nbformat_minor": 0,
  "metadata": {
    "file_extension": ".py",
    "kernelspec": {
      "display_name": "Python 3",
      "language": "python",
      "name": "python3"
    },
    "language_info": {
      "codemirror_mode": {
        "name": "ipython",
        "version": 3
      },
      "file_extension": ".py",
      "mimetype": "text/x-python",
      "name": "python",
      "nbconvert_exporter": "python",
      "pygments_lexer": "ipython3",
      "version": "3.7.6"
    },
    "mimetype": "text/x-python",
    "name": "python",
    "npconvert_exporter": "python",
    "pygments_lexer": "ipython3",
    "version": 3,
    "colab": {
      "name": "sampling_a_distribution.ipynb",
      "provenance": [],
      "include_colab_link": true
    }
  },
  "cells": [
    {
      "cell_type": "markdown",
      "metadata": {
        "id": "view-in-github",
        "colab_type": "text"
      },
      "source": [
        "<a href=\"https://colab.research.google.com/github/iniyan1984/HalfDayHacking/blob/main/sampling_a_distribution.ipynb\" target=\"_parent\"><img src=\"https://colab.research.google.com/assets/colab-badge.svg\" alt=\"Open In Colab\"/></a>"
      ]
    },
    {
      "cell_type": "markdown",
      "metadata": {
        "id": "W5wm3NlNN_RG"
      },
      "source": [
        "# HW: Probability, Sampling, and the Central Limit Theorem"
      ]
    },
    {
      "cell_type": "markdown",
      "metadata": {
        "id": "zQV_yJVgN_RL"
      },
      "source": [
        "Suppose you were to flip a coin. Then you expect not to be able to say whether the next toss would yield a heads or a tails.  You might tell a friend that the odds of getting a heads is equal to to the odds of getting a tails, and that both are $1/2$.\n",
        "\n",
        "This intuitive notion of odds is a **probability**. "
      ]
    },
    {
      "cell_type": "markdown",
      "metadata": {
        "id": "bv43vdWUN_RM"
      },
      "source": [
        "## Probability as symmetry, or from a model\n",
        "\n",
        "### Symmetry\n",
        "\n",
        "Consider another example. If we were tossing a 'fair' six-sided dice, we may thus equivalently say that the odds of the dice falling on any one of its sides is $1/6$. Indeed if there are $C$ different equally likely possibilities, we'd expect that the probability of any one particular outcome would be $1/C$.\n",
        "\n",
        "The examples of the coin as well as the dice illustrate the notion of probability springing from **symmetry**. Here we think of probability of of the number 4 on the dice as the ratio:\n",
        "\n",
        "$$\\frac{Number\\: of\\: cases\\: for\\: number\\: 4}{number\\: of\\: possibilities} = \\frac{1}{6},$$\n",
        " assuming equally likely possibilities.\n",
        "\n",
        "\n",
        "\n",
        "### From a model\n",
        "\n",
        "But now think of an event like an election, say a presidential election. You cant exactly run multiple trials of the election: its a one-off event. But you still want to talk about the likelihood of a candidate winning. However people do make **models** of elections, based on inputs such as race, age, income, sampling polls, etc. They assign likeyhoods of candidates winning and run large numbers of **simulations** of the election, making predictions based on that. \n",
        "\n",
        "Or consider what a weather forecaster means when he or she says there is a 90% chance of rain today. Presumably, this conclusion has been made from many computer **simulations** which take in the weather conditions known in the past, and propagated using physics to the current day. The simulations give different results based on the uncertainty in the measurement of past weather, and the inability of the physics to capture the phenomenon exactly (all physics is some approximation to the natural world). But 90% of these simulations show rain.\n",
        "\n",
        "In all of these cases, there is either a model (a fair coin, an election forecasting model, a weather differential equation), or an experiment ( a large number of coin tosses) that is used to **estimate** a probability, or the odds, of an **event** $E$ occuring. \n",
        "\n",
        "## Probability as frequency\n",
        "\n",
        "The example above of doing multiple symbols has the feel of defining probability in terms of frequency, even if the frequency is in terms of simulations run in code on a computer.\n",
        "\n",
        "Consider doing a large number of coin flips. You would do, or imagine doing, a large number of flips or **trials** $N$, and finding the number of times you got heads $N_H$. Then the probability of getting heads would be \n",
        "$$\\frac{N_H}{N}.$$\n",
        "\n",
        "This is the notion of probability as a **relative frequency**: if there are multiple ways an **event** like the tossing of a coin can happen, lets look at multiple trials of the event and see the fraction of times one or other of these ways happened. \n",
        "\n",
        "This jibes with our general notion of probability from symmetry: indeed you can think of it as an experimental verification of a symmetry based model.\n",
        "\n",
        "We can test the model of a fair coin by having carried out a large number of coin flips. You would do, or imagine doing, a large number of flips or **trials** $N$, and finding the number of times you got heads $N_H$. Then the probability of getting heads would be \n",
        "$$\\frac{N_H}{N}.$$\n",
        "\n",
        "### Q1. Simulating the results of the model\n",
        "\n",
        "We dont have a coin right now. So let us **simulate** this process on a computer. To do this we will use a form of the **random number generator** built into `numpy`. In particular, we will use the function `np.random.choice`, which will with equal probability for all items pick an item from a list (thus if the list is of size 6, it will pick one of the six list items each time, with a probability 1/6).\n",
        "\n",
        "Implement a function `throw_a_coin(N)` which returns a sequence of N coin tosses, with each toss either being a 'H' or a 'T' (with equal probability). So a sequence of 40 tosses may look like:\n",
        "\n",
        "```\n",
        "T T H H T T T H T H T H T T H T H T T H H T T H T T H T T H H H H T H T H H T T\n",
        "```"
      ]
    },
    {
      "cell_type": "code",
      "metadata": {
        "id": "2an1kduqN_RN"
      },
      "source": [
        "import numpy as np\n",
        "# your code here\n",
        "def throw_a_coin(N):\n",
        "    return np.random.choice(['H','T'], size=N)"
      ],
      "execution_count": 1,
      "outputs": []
    },
    {
      "cell_type": "markdown",
      "metadata": {
        "id": "38fsEK3vN_RN"
      },
      "source": [
        "We use your code here to make 40 coin tosses:"
      ]
    },
    {
      "cell_type": "code",
      "metadata": {
        "id": "zc0llv3eN_RN",
        "outputId": "431cc1b1-4577-4cb6-e1d6-44b4ead889e1",
        "colab": {
          "base_uri": "https://localhost:8080/"
        }
      },
      "source": [
        "throws=throw_a_coin(40)\n",
        "print(\"Throws:\",\" \".join(throws))\n",
        "print(\"Number of Heads:\", np.sum(throws=='H'))\n",
        "print(\"p1 = Number of Heads/Total Throws:\", np.sum(throws=='H')/40.)"
      ],
      "execution_count": 2,
      "outputs": [
        {
          "output_type": "stream",
          "text": [
            "Throws: H H H H H H H T T T H H H T T T H H H H H H T H H T T H T T H H T H H H H T T T\n",
            "Number of Heads: 25\n",
            "p1 = Number of Heads/Total Throws: 0.625\n"
          ],
          "name": "stdout"
        }
      ]
    },
    {
      "cell_type": "markdown",
      "metadata": {
        "id": "5rv-BPUsN_RO"
      },
      "source": [
        "Notice that you do not necessarily get 20 heads.\n",
        "\n",
        "Now say that we run the entire process again, a second **replication** to obtain a second sample. Then we ask the same question: what is the fraction of heads we get this time? Lets call the odds of heads in sample 2, then, $p_2$:"
      ]
    },
    {
      "cell_type": "code",
      "metadata": {
        "id": "0bEvKMvAN_RP",
        "outputId": "bff421d4-36ae-41d1-d692-453cf181bf81",
        "colab": {
          "base_uri": "https://localhost:8080/"
        }
      },
      "source": [
        "def make_throws(N):\n",
        "    throws=throw_a_coin(N)\n",
        "    return np.sum(throws=='H')/N # or np.mean(throws=='H')\n",
        "make_throws(40)"
      ],
      "execution_count": 4,
      "outputs": [
        {
          "output_type": "execute_result",
          "data": {
            "text/plain": [
              "0.425"
            ]
          },
          "metadata": {
            "tags": []
          },
          "execution_count": 4
        }
      ]
    },
    {
      "cell_type": "markdown",
      "metadata": {
        "id": "4tyI86nwN_RQ"
      },
      "source": [
        "Our intuitive notion is that as we do many more trials, we should find half the tosses being heads"
      ]
    },
    {
      "cell_type": "code",
      "metadata": {
        "id": "sFm4Q6FuN_RQ",
        "outputId": "1b0b04fe-2495-46fa-a21c-577671dc28af",
        "colab": {
          "base_uri": "https://localhost:8080/"
        }
      },
      "source": [
        "make_throws(1000)"
      ],
      "execution_count": 5,
      "outputs": [
        {
          "output_type": "execute_result",
          "data": {
            "text/plain": [
              "0.492"
            ]
          },
          "metadata": {
            "tags": []
          },
          "execution_count": 5
        }
      ]
    },
    {
      "cell_type": "code",
      "metadata": {
        "id": "UEJx_bh-N_RR",
        "outputId": "c5ed7580-a093-4948-e826-91bb7155167d",
        "colab": {
          "base_uri": "https://localhost:8080/"
        }
      },
      "source": [
        "make_throws(10000)"
      ],
      "execution_count": 6,
      "outputs": [
        {
          "output_type": "execute_result",
          "data": {
            "text/plain": [
              "0.4971"
            ]
          },
          "metadata": {
            "tags": []
          },
          "execution_count": 6
        }
      ]
    },
    {
      "cell_type": "markdown",
      "metadata": {
        "id": "Ph_Un0EdN_RR"
      },
      "source": [
        "As you can see, the larger number of trials we do, the closer we seem to get to half the tosses showing up heads. Lets see this more systematically by making a matplotlib plot. Construct an array of trials from 0 to 400000 in steps of 1000:"
      ]
    },
    {
      "cell_type": "code",
      "metadata": {
        "id": "iDTmUa2KN_RR",
        "outputId": "f1f4cbbf-d764-4756-e43d-07d9d8631384",
        "colab": {
          "base_uri": "https://localhost:8080/"
        }
      },
      "source": [
        "%matplotlib inline\n",
        "import matplotlib.pyplot as plt\n",
        "trials=np.arange(0, 400000, 1000)\n",
        "trials.shape"
      ],
      "execution_count": 8,
      "outputs": [
        {
          "output_type": "execute_result",
          "data": {
            "text/plain": [
              "(400,)"
            ]
          },
          "metadata": {
            "tags": []
          },
          "execution_count": 8
        }
      ]
    },
    {
      "cell_type": "markdown",
      "metadata": {
        "id": "Alq7BjViN_RS"
      },
      "source": [
        "### Q2: Plot the fraction of heads against the number of trials. Plot a horizontal red line at 0.5\n",
        "\n",
        "For each entry in trials, call `make_throws` and plot the resulting array of fractions (lets call this array `trials_fractions`) against the trials array.\n",
        "\n",
        "We are assuming H and T are equally likely, so the probability by symmetry is 1/2, and we wantt to see how this probability is approached in the long run of \"infinite\" coin tosses.\n",
        "\n",
        "Make sure you label your axes and title your graph"
      ]
    },
    {
      "cell_type": "code",
      "metadata": {
        "id": "hYtvU8GFN_RS",
        "outputId": "70d3edaa-4612-4c75-80a8-c1ccf133c936",
        "colab": {
          "base_uri": "https://localhost:8080/",
          "height": 438
        }
      },
      "source": [
        "trials_fractions = [make_throws(j) for j in trials]\n",
        "# your code here\n",
        "\n",
        "plt.figure(figsize=(9,6))\n",
        "plt.plot(trials, trials_fractions, '*-', alpha=0.2);\n",
        "plt.axhline(0.5, 0, 1, color='r');\n",
        "plt.xlabel('number of trials');\n",
        "plt.ylabel('probability of heads from simulation');\n",
        "plt.title('long run frequency based probability of heads');"
      ],
      "execution_count": 9,
      "outputs": [
        {
          "output_type": "stream",
          "text": [
            "/usr/local/lib/python3.6/dist-packages/ipykernel_launcher.py:3: RuntimeWarning: invalid value encountered in long_scalars\n",
            "  This is separate from the ipykernel package so we can avoid doing imports until\n"
          ],
          "name": "stderr"
        },
        {
          "output_type": "display_data",
          "data": {
            "image/png": "[encoded data removed]",
            "text/plain": [
              "<Figure size 648x432 with 1 Axes>"
            ]
          },
          "metadata": {
            "tags": [],
            "needs_background": "light"
          }
        }
      ]
    },
    {
      "cell_type": "markdown",
      "metadata": {
        "id": "_WYxBfJ4N_RT"
      },
      "source": [
        "You will see, the true odds **fluctuate** about their long-run value of 0.5, in accordance with the model of a fair coin (which we encoded in our simulation by having `np.random.choice` choose between two possibilities with equal probability), with the fluctuations becoming much smaller. These **fluctations** are what give rise to probability distributions.\n"
      ]
    },
    {
      "cell_type": "markdown",
      "metadata": {
        "id": "St0OpWKlN_RT"
      },
      "source": [
        "## The law of large numbers\n",
        "\n",
        "This convergence of the fractions to the value of 0.5 is called the law of large numbers. The 0.5 value is the mean of a \"Bernoulli\" Distribution, the distribuion for *one* coin toss. The fractions are really running averages:\n",
        "\n",
        "$$ S_n = \\frac{1}{n}\\sum_{i=1}^{n} x_i $$\n",
        "\n",
        "where x_i is either H or T (1 or 0).\n",
        "\n",
        "### The Discrete Bernoulli Distribution\n",
        "\n",
        "The distribution for 1 `coin toss` is called the Bernoulli.\n",
        "\n",
        "We have been using this so far both in elecctions and in coin-tosses withour talking about it formally.\n",
        "\n",
        "Say a coin flip represented as $X$, where $X=1$ is heads, and $X=0$ is tails. The parameter is probability of heads $p$.\n",
        "\n",
        "$$X \\sim Bernoulli(p)$$\n",
        "\n",
        "is to be read as $$X$$ **has distribution** $Bernoulli(p)$.\n",
        "\n",
        "\n",
        "Bernoulli pmf:\n",
        "\n",
        "$$\n",
        "f(x) =\n",
        "\\begin{cases}\n",
        "1 - p & x = 0\\\\\n",
        "p & x = 1.\n",
        "\\end{cases}\n",
        "$$\n",
        "\n",
        "for p in the range 0 to 1.\n",
        "\n",
        "$$f(x) = p^x (1-p)^{1-x}$$\n",
        "\n",
        "for x in the set {0,1}.\n",
        "\n",
        "On Python distributions can be obtained from `numpy.random` or `scipy.stats`"
      ]
    },
    {
      "cell_type": "markdown",
      "metadata": {
        "id": "P-YyVdnqN_RT"
      },
      "source": [
        "In any model, there are multiple sources of fluctuations. One of these is...\n",
        "\n",
        "## Sampling error\n",
        "\n",
        "Asking a human to do more than a 1000 coin tosses might result in that human rebelling. Thus we might be only be able to ask a person to toss 1000 coins. Thus there is some sampling error in their probability estimates. But if we had asked another person to do 1000 tosses, their answers would be somewhat different. These are the fluctuations we talked about, and the error away from the long term tendency, also called the \"population\" tendency, is called sampling error.\n",
        "\n",
        "### Samples from a population of coin flips\n",
        "\n",
        "We'll establish some terminology at first. What we'll do different here is to do a large set of **replications** M, in each of which we did many coin flips, or **observations** N.  We'll call **a single replication a sample of observations**. Thus the number of samples is M, and the sample size is N. \n",
        "\n",
        "![](https://github.com/iniyan1984/HalfDayHacking/blob/main/images/grid.png?raw=1)\n",
        "\n",
        "Remember that each of these samples have been chosen from a population of size $n >> N$. The 1000 coin tosses from an infinite population so as to not tire the humans.\n",
        "\n",
        "We'll now calculate the mean over the observations in a single sample, or sample mean, for a sample size of 10, with 20 replications. There are thus 20 means.\n",
        "\n",
        "### Q3. Lets write a function to create this code here\n",
        "\n",
        "Create a function `replicate_throws(number_of_samples, sample_size)`. Loop over the samples, throw `sample_size` coin tosses, and calculate the mean of each sample. Return these means. (your returned array will thus be of size `number_of_samples`"
      ]
    },
    {
      "cell_type": "code",
      "metadata": {
        "id": "X83ZofEvN_RT"
      },
      "source": [
        "# your code here\n",
        "def replicate_throws(number_of_samples, sample_size):\n",
        "    start=np.zeros((number_of_samples, sample_size), dtype=int)\n",
        "    for i in range(number_of_samples):\n",
        "        start[i,:] = throw_a_coin(sample_size) == 'H'\n",
        "    return np.mean(start, axis=1)"
      ],
      "execution_count": null,
      "outputs": []
    },
    {
      "cell_type": "code",
      "metadata": {
        "id": "BoB55FcvN_RU",
        "outputId": "d86b5970-1f26-41a2-cde3-6267ffed1795"
      },
      "source": [
        "replicate_throws(number_of_samples=20, sample_size=10)"
      ],
      "execution_count": null,
      "outputs": [
        {
          "output_type": "execute_result",
          "data": {
            "text/plain": [
              "array([0.5, 0.4, 0.6, 0.4, 0.3, 0.5, 0.6, 0.7, 0.4, 0.5, 0.7, 0.3, 0.6,\n",
              "       0.5, 0.5, 0.4, 0.6, 0.4, 0.3, 0.6])"
            ]
          },
          "metadata": {
            "tags": []
          },
          "execution_count": 19
        }
      ]
    },
    {
      "cell_type": "markdown",
      "metadata": {
        "id": "jWWFAypKN_RU"
      },
      "source": [
        "Now lets do 100 samples of 500 coin tosses:"
      ]
    },
    {
      "cell_type": "code",
      "metadata": {
        "id": "mXjgTHvZN_RU"
      },
      "source": [
        "throw_fractions = replicate_throws(number_of_samples=100, sample_size=500)"
      ],
      "execution_count": null,
      "outputs": []
    },
    {
      "cell_type": "code",
      "metadata": {
        "id": "_NwdzkT2N_RU",
        "outputId": "f8f33d2d-7d4d-43fa-b58a-a53741861053"
      },
      "source": [
        "plt.hist(throw_fractions);"
      ],
      "execution_count": null,
      "outputs": [
        {
          "output_type": "display_data",
          "data": {
            "image/png": "[encoded data removed]",
            "text/plain": [
              "<Figure size 432x288 with 1 Axes>"
            ]
          },
          "metadata": {
            "tags": [],
            "needs_background": "light"
          }
        }
      ]
    },
    {
      "cell_type": "markdown",
      "metadata": {
        "id": "UiVEv6GxN_RU"
      },
      "source": [
        "As you can see, there are samples with as many as 56% heads in this experiment. \n",
        "\n",
        "What hapens if you increase the sample size?"
      ]
    },
    {
      "cell_type": "code",
      "metadata": {
        "id": "sGqHMNs-N_RV"
      },
      "source": [
        "throw_fractions = replicate_throws(number_of_samples=200, sample_size=1000)"
      ],
      "execution_count": null,
      "outputs": []
    },
    {
      "cell_type": "code",
      "metadata": {
        "id": "X0qq3-6BN_RV",
        "outputId": "5a2295a7-bed0-44e1-d46f-01613ce527ce"
      },
      "source": [
        "plt.hist(throw_fractions);"
      ],
      "execution_count": null,
      "outputs": [
        {
          "output_type": "display_data",
          "data": {
            "image/png": "[encoded data removed]",
            "text/plain": [
              "<Figure size 432x288 with 1 Axes>"
            ]
          },
          "metadata": {
            "tags": [],
            "needs_background": "light"
          }
        }
      ]
    },
    {
      "cell_type": "markdown",
      "metadata": {
        "id": "zp4ZHL3WN_RV"
      },
      "source": [
        "This is a tighter histogram as you might expect! More coin tosses in a sample, less the uncertainty due to sampling.\n"
      ]
    },
    {
      "cell_type": "markdown",
      "metadata": {
        "id": "CF8DuF7vN_RV"
      },
      "source": [
        "### Q4 multiple replications with multiple sample sizes\n",
        "\n",
        "Let us now do these 200 replications, but this time and store the 200 means for each sample size from 1 to 10001 (in strides of 100, `np.arange(1,10001,100)`) in `sample_means`. This should be a 2D array of 200 rows corresponding to the 200 replications and 100 columns corresponding to the shape of `sample_sizes` below."
      ]
    },
    {
      "cell_type": "code",
      "metadata": {
        "id": "1u4_r8jMN_RV",
        "outputId": "e706c677-0696-4983-aee4-2660052da08b"
      },
      "source": [
        "sample_sizes=np.arange(1,10001,100)\n",
        "sample_sizes.shape"
      ],
      "execution_count": null,
      "outputs": [
        {
          "output_type": "execute_result",
          "data": {
            "text/plain": [
              "(100,)"
            ]
          },
          "metadata": {
            "tags": []
          },
          "execution_count": 40
        }
      ]
    },
    {
      "cell_type": "code",
      "metadata": {
        "id": "vuKp8nZLN_RW",
        "outputId": "c5fe3bd4-3e12-4f27-d6e0-f381ee6867a2"
      },
      "source": [
        "sample_sizes"
      ],
      "execution_count": null,
      "outputs": [
        {
          "output_type": "execute_result",
          "data": {
            "text/plain": [
              "array([   1,  101,  201,  301,  401,  501,  601,  701,  801,  901, 1001,\n",
              "       1101, 1201, 1301, 1401, 1501, 1601, 1701, 1801, 1901, 2001, 2101,\n",
              "       2201, 2301, 2401, 2501, 2601, 2701, 2801, 2901, 3001, 3101, 3201,\n",
              "       3301, 3401, 3501, 3601, 3701, 3801, 3901, 4001, 4101, 4201, 4301,\n",
              "       4401, 4501, 4601, 4701, 4801, 4901, 5001, 5101, 5201, 5301, 5401,\n",
              "       5501, 5601, 5701, 5801, 5901, 6001, 6101, 6201, 6301, 6401, 6501,\n",
              "       6601, 6701, 6801, 6901, 7001, 7101, 7201, 7301, 7401, 7501, 7601,\n",
              "       7701, 7801, 7901, 8001, 8101, 8201, 8301, 8401, 8501, 8601, 8701,\n",
              "       8801, 8901, 9001, 9101, 9201, 9301, 9401, 9501, 9601, 9701, 9801,\n",
              "       9901])"
            ]
          },
          "metadata": {
            "tags": []
          },
          "execution_count": 41
        }
      ]
    },
    {
      "cell_type": "markdown",
      "metadata": {
        "id": "sKfF-9OnN_RW"
      },
      "source": [
        "The next cell is yours to write. Its output should be a 200 x 100 array, with rows the means at different sample sizes for different replications. Yoour strategy to fill this 2D array will be to go column by colum and use `replicate_throws` to fill the 200 means for a given sample size in each column."
      ]
    },
    {
      "cell_type": "code",
      "metadata": {
        "id": "S-jyyV3NN_RW"
      },
      "source": [
        "# your code here\n",
        "sample_means = np.zeros((200, sample_sizes.shape[0]))\n",
        "for i, sample_size in enumerate(sample_sizes):\n",
        "    sample_means[:,i] = replicate_throws(number_of_samples=200, sample_size=sample_size)"
      ],
      "execution_count": null,
      "outputs": []
    },
    {
      "cell_type": "code",
      "metadata": {
        "id": "8iAdVt5qN_RW",
        "outputId": "e9f6d091-4219-42dd-b8ff-335dbbe6b4eb"
      },
      "source": [
        "sample_means.shape # should be 200 x 100"
      ],
      "execution_count": null,
      "outputs": [
        {
          "output_type": "execute_result",
          "data": {
            "text/plain": [
              "(200, 100)"
            ]
          },
          "metadata": {
            "tags": []
          },
          "execution_count": 43
        }
      ]
    },
    {
      "cell_type": "markdown",
      "metadata": {
        "id": "FXIyvkdRN_RW"
      },
      "source": [
        "This is now a set of 200 sample means at each sample size. Lets create an array of \"means of sample means\""
      ]
    },
    {
      "cell_type": "code",
      "metadata": {
        "id": "HKAKp0WdN_RW"
      },
      "source": [
        "mean_of_sample_means = np.mean(sample_means, axis=0)"
      ],
      "execution_count": null,
      "outputs": []
    },
    {
      "cell_type": "markdown",
      "metadata": {
        "id": "nHFjKN_zN_RW"
      },
      "source": [
        "Now let us plot these:"
      ]
    },
    {
      "cell_type": "code",
      "metadata": {
        "id": "O_kw7ihpN_RW",
        "outputId": "2cbf7cf2-fd04-4c00-ec76-e1ccc6ba2867"
      },
      "source": [
        "plt.plot(sample_sizes, mean_of_sample_means);\n",
        "plt.ylim([0.480,0.520]);\n",
        "plt.axhline(0.5, 0, 1, color=\"r\")"
      ],
      "execution_count": null,
      "outputs": [
        {
          "output_type": "execute_result",
          "data": {
            "text/plain": [
              "<matplotlib.lines.Line2D at 0x7fdb798089d0>"
            ]
          },
          "metadata": {
            "tags": []
          },
          "execution_count": 45
        },
        {
          "output_type": "display_data",
          "data": {
            "image/png": "[encoded data removed]",
            "text/plain": [
              "<Figure size 432x288 with 1 Axes>"
            ]
          },
          "metadata": {
            "tags": [],
            "needs_background": "light"
          }
        }
      ]
    },
    {
      "cell_type": "markdown",
      "metadata": {
        "id": "BmZw2l28N_RX"
      },
      "source": [
        "We can see that the mean of sample means (as opposed to just the sample mean) also gets closer to 0.5. What does the distribution of means look like? Leets see this at the highest sample size (9901), thus the last column in the sample_means array:"
      ]
    },
    {
      "cell_type": "code",
      "metadata": {
        "id": "BcwEVfjUN_RX",
        "outputId": "e872062d-8bde-4794-f903-1020cffbd522"
      },
      "source": [
        "plt.hist(sample_means[:,-1])"
      ],
      "execution_count": null,
      "outputs": [
        {
          "output_type": "execute_result",
          "data": {
            "text/plain": [
              "(array([ 2.,  5., 18., 26., 47., 51., 32., 10.,  7.,  2.]),\n",
              " array([0.48479952, 0.48783961, 0.49087971, 0.49391981, 0.4969599 ,\n",
              "        0.5       , 0.5030401 , 0.50608019, 0.50912029, 0.51216039,\n",
              "        0.51520048]),\n",
              " <a list of 10 Patch objects>)"
            ]
          },
          "metadata": {
            "tags": []
          },
          "execution_count": 46
        },
        {
          "output_type": "display_data",
          "data": {
            "image/png": "[encoded data removed]",
            "text/plain": [
              "<Figure size 432x288 with 1 Axes>"
            ]
          },
          "metadata": {
            "tags": [],
            "needs_background": "light"
          }
        }
      ]
    },
    {
      "cell_type": "markdown",
      "metadata": {
        "id": "arSBd0_cN_RX"
      },
      "source": [
        "This distribution (in the infinite sample size limit) if called the \"Sampling distribution of the Sample Mean\", as for each replication, we did 9901 (large enough) coin tosses. We calculated the mean of those coin tosses, and plotted the distribution here. The mean of this distribution is, of course:"
      ]
    },
    {
      "cell_type": "code",
      "metadata": {
        "id": "q4KmSw7qN_RX",
        "outputId": "fd65d29d-898e-44f3-b774-c2ea921cd6bb"
      },
      "source": [
        "mean_of_sample_means[-1]"
      ],
      "execution_count": null,
      "outputs": [
        {
          "output_type": "execute_result",
          "data": {
            "text/plain": [
              "0.5000161599838399"
            ]
          },
          "metadata": {
            "tags": []
          },
          "execution_count": 47
        }
      ]
    },
    {
      "cell_type": "markdown",
      "metadata": {
        "id": "k-N1qs8lN_RX"
      },
      "source": [
        "This is the: \n",
        "\n",
        "### The Gaussian Distribution\n",
        "\n",
        "The sampling distribution of the mean itself has a mean $\\mu$ and variance $s^2$. This distribution is called the **Gaussian** or **Normal Distribution**, and is probably the most important distribution in all of statistics.\n",
        "\n",
        "The probability density of the normal distribution is given as:\n",
        "\n",
        "$$ N(x, \\mu, \\sigma) = \\frac{1}{s\\sqrt{2\\pi}} e^{ -\\frac{(x-\\mu)^2}{2s^2} } .$$\n",
        "\n",
        "$s$ is called the **standard error**."
      ]
    },
    {
      "cell_type": "markdown",
      "metadata": {
        "id": "3mJvzneRN_RX"
      },
      "source": [
        "Veeeeery close to 0.5, as expected. \n",
        "\n",
        "### Q5: Tightening of the distribution\n",
        "\n",
        "But how do these distributions vary at different sample sizes? Plot the distribution of 200 means at 3 different sample sizes: 501, 5001, and 9901 in the same figure. You will need to figure the index corresponding to this (use `zip` and `dict`) and get the three columns out from `sample_means`. Use labels and a legend."
      ]
    },
    {
      "cell_type": "code",
      "metadata": {
        "id": "Itemz46BN_RX",
        "outputId": "8e378e04-43c9-4873-874f-988b6732ea56"
      },
      "source": [
        "# your code here\n",
        "lookup = dict(zip(sample_sizes, range(100)))\n",
        "for i in [501, 5001, 9901]:\n",
        "    index = lookup[i]\n",
        "    column = sample_means[:,index]\n",
        "    plt.hist(column, alpha=0.2, label=str(i))\n",
        "plt.legend();"
      ],
      "execution_count": null,
      "outputs": [
        {
          "output_type": "display_data",
          "data": {
            "image/png": "[encoded data removed]",
            "text/plain": [
              "<Figure size 432x288 with 1 Axes>"
            ]
          },
          "metadata": {
            "tags": [],
            "needs_background": "light"
          }
        }
      ]
    },
    {
      "cell_type": "markdown",
      "metadata": {
        "id": "MbhSo_LeN_RY"
      },
      "source": [
        "You will notice an immense tightening of the distributions. By how much? To do this lets create an array for the standard deviation of the distributions, also known in statiostical parlance as the **standard error**:"
      ]
    },
    {
      "cell_type": "code",
      "metadata": {
        "id": "Dwlbm3R8N_RY"
      },
      "source": [
        "stddev_of_sample_means = np.std(sample_means, axis=0)"
      ],
      "execution_count": null,
      "outputs": []
    },
    {
      "cell_type": "markdown",
      "metadata": {
        "id": "KQ9gdgJHN_RY"
      },
      "source": [
        "### Q6: Plot the log of this array agains the log of the sample sizes.\n",
        "\n",
        "You can use `np.log10`. This function can be applied directly to arrays: this is akin to what we did when we added two arrays. it will apply the function elementwise."
      ]
    },
    {
      "cell_type": "code",
      "metadata": {
        "id": "svKpavARN_RY",
        "outputId": "69194dd6-e8db-4ffd-89ec-de2183f9cf68"
      },
      "source": [
        "np.log10(stddev_of_sample_means)"
      ],
      "execution_count": null,
      "outputs": [
        {
          "output_type": "execute_result",
          "data": {
            "text/plain": [
              "array([-0.30157354, -1.30010726, -1.48428314, -1.52525092, -1.5949349 ,\n",
              "       -1.64393038, -1.67750625, -1.7505508 , -1.73704054, -1.78668616,\n",
              "       -1.79841103, -1.81922631, -1.81479094, -1.86536957, -1.84861455,\n",
              "       -1.90202731, -1.873269  , -1.91671085, -1.9538549 , -1.95738671,\n",
              "       -1.98749534, -1.98314069, -1.98409935, -1.99975862, -1.97803228,\n",
              "       -2.05711651, -2.02573709, -2.01734812, -2.0161149 , -2.05200698,\n",
              "       -2.04221185, -2.04637011, -2.03327763, -2.07149924, -2.07450125,\n",
              "       -2.08632258, -2.09366575, -2.10477258, -2.104479  , -2.11426142,\n",
              "       -2.07958553, -2.11940386, -2.10202258, -2.16019165, -2.13050306,\n",
              "       -2.11034301, -2.12659414, -2.11084566, -2.16000325, -2.1361024 ,\n",
              "       -2.1429317 , -2.16458331, -2.19424943, -2.14621777, -2.20698294,\n",
              "       -2.19023883, -2.13550529, -2.14586537, -2.19255529, -2.16496406,\n",
              "       -2.18513351, -2.22347818, -2.20865838, -2.21939292, -2.19788365,\n",
              "       -2.2046897 , -2.20917797, -2.20451887, -2.23626223, -2.23095034,\n",
              "       -2.18557785, -2.26067694, -2.24563129, -2.21699439, -2.24119248,\n",
              "       -2.2475864 , -2.25871372, -2.24776393, -2.24965017, -2.2728286 ,\n",
              "       -2.28190077, -2.25113287, -2.24265488, -2.27138794, -2.28095011,\n",
              "       -2.28633749, -2.28681081, -2.32302759, -2.27670637, -2.25853374,\n",
              "       -2.25732373, -2.2790224 , -2.27587181, -2.32395711, -2.2625975 ,\n",
              "       -2.2941065 , -2.25029346, -2.30051   , -2.29442731, -2.30183163])"
            ]
          },
          "metadata": {
            "tags": []
          },
          "execution_count": 52
        }
      ]
    },
    {
      "cell_type": "code",
      "metadata": {
        "id": "OPwxbHcYN_RY",
        "outputId": "3e7eed1a-d2ec-428e-c928-0c8f2033c5e6"
      },
      "source": [
        "# your code here\n",
        "plt.plot(np.log10(sample_sizes), np.log10(stddev_of_sample_means));"
      ],
      "execution_count": null,
      "outputs": [
        {
          "output_type": "display_data",
          "data": {
            "image/png": "[encoded data removed]",
            "text/plain": [
              "<Figure size 432x288 with 1 Axes>"
            ]
          },
          "metadata": {
            "tags": [],
            "needs_background": "light"
          }
        }
      ]
    },
    {
      "cell_type": "markdown",
      "metadata": {
        "id": "uqvzdQkvN_RY"
      },
      "source": [
        "Its a straight line. If you look catefully, its slope is -0.5, telling us that:\n",
        "\n",
        "$$Standard Error \\propto \\frac{1}{\\sqrt{N}}$$\n",
        "\n",
        "where $N$ is the sample size."
      ]
    },
    {
      "cell_type": "markdown",
      "metadata": {
        "id": "Hcwzljo9N_RY"
      },
      "source": [
        "This gets us to the:\n",
        "\n",
        "## The Central Limit Theorem\n",
        "\n",
        "The theorem is stated as thus, very similar to the law of large numbers:\n",
        "\n",
        "**Let $x_1,x_2,...,x_n$ be a sequence of independent, identically-distributed (IID) random variables from a random variable $X$. Suppose that $X$ has the finite mean $\\mu$ AND finite variance $\\sigma^2$. Then the average of the first n of them:**\n",
        "\n",
        "$$S_n = \\frac{1}{n} \\sum_{i=1}^{n} x_i ,$$\n",
        "\n",
        "**converges to a Gaussian Random Variable with mean $\\mu$ and variance $\\sigma^2/n$ as $n \\to \\infty$:**\n",
        "\n",
        "$$ S_n \\sim N(\\mu,\\frac{\\sigma^2}{n}) \\, as \\, n \\to \\infty. $$\n",
        "\n",
        "In other words:\n",
        "\n",
        "$$s^2 = \\frac{\\sigma^2}{N}.$$\n",
        "\n",
        "\n",
        "This is true, *regardless* of the shape of $X$, which could be binomial, poisson, or any other distribution."
      ]
    },
    {
      "cell_type": "markdown",
      "metadata": {
        "id": "bNY4kSV6N_RZ"
      },
      "source": [
        "Lets step back and try and think about what this all means. As an example, say I have a weight-watchers' study of 1000 people, whose average weight is 150 lbs with standard deviation of 30lbs. If I was to randomly choose many samples of 100 people each, the mean weights of those samples would cluster around 150lbs with a standard error of 30/$\\sqrt{100}$ = 3lbs. Now if i gave you a different sample of 100 people with an average weight of 170lbs, this weight would be more than 6 standard errors beyond the population mean, ^[this example is motivated by the crazy bus example in Charles Whelan's excellent Naked Statistics Book] and would thus be very unlikely to be from the weight watchers group."
      ]
    }
  ]
}